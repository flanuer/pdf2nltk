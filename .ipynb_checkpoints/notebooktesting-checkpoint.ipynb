{
 "cells": [
  {
   "cell_type": "code",
   "execution_count": null,
   "metadata": {},
   "outputs": [],
   "source": [
    "# -*- coding: utf-8 -*-"
   ]
  },
  {
   "cell_type": "code",
   "execution_count": 12,
   "metadata": {},
   "outputs": [],
   "source": [
    "import os\n",
    "import PyPDF2"
   ]
  },
  {
   "cell_type": "code",
   "execution_count": 15,
   "metadata": {},
   "outputs": [
    {
     "name": "stdout",
     "output_type": "stream",
     "text": [
      "260 Blasco ICO 2 $ 50 ,d 3 Y -.- -:. LI M I I I I ﬁ‚., 13 .- 10 10 ^2 14 16 18 20 22 Days Fig. 5. Time distribution of mean average over upper 40 m of Gonyaulux polyedra and Poly- ktikos kofoidii, copepods, and ciliates. total cells was higher than lo%, we find that dinoflagellates were the main primary producers. Distribution of micronooplunkto~Dur- ing this study phagotrophic dinoflagellates, ciliates, and copepodites were also counted in the phytoplankton samples. All three groups of organisms are possible grazers of dinoflagellate blooms and may have been responsible for the disappearance of certain blooms. Two phagotrophic dinoflagellates were observed: Noctiluca scintilluns and Polykrikos kofoidii. The first was present only in some samples and in very low num- bers; the second was almost always present, with maximum concentration following with a small lag the maximum concentra- tion of G. polyedra (Fig. 5). However, the concentration of P. kofoidii was lo3 times lower than that of G. polyedra. The average concentration of ciliates at the sea surface was 1,390 liter-l. This value is similar to those reported for other areas (Margalef 1963, 1973; Beers and Stewart 1969), and higher than the value given by Beers and Stewart (1967) for the Califor- nia Current. The maximum density, 6,000 liter-l, found at station 20, is lower than the maximum observed in other regions and also lower than the maximum observed in the same region on a cruise the following year. The mean ratio in the euphotic zone for the phytoplankton cells to ciliates was ten times higher than the ratio reported by others; the mean ratio for G. polyedra : cili- ates was 100 : 1. With the exception of the holotrich Tiurinu fusus, observed at all the stations, almost all the ciliates belonged to the group of small (40 pm) oligotriches without lorica. When we consider that the dominant ciliates observed during this study were similar in size to G. polyedra, that their abundance was low, and that the rela- tionship between the distribution of the two organisms was not significant ( Fig. 5)) it seems reasonable to assume that the ciliates were not feeding primarily on G. polyedra. Of course, 50-ml samples are not ade- quate for counting copepods; nevertheless, the mean value for the whole period, 35 organisms liter-l, provides a lower-bound estimate of the importance of the copepod population in the area. The concentration was highest in the beginning of the first week; later the population declined (Fig. 5). Nauplii and copepodites were the most numerous organisms seen. Based on the ratio of G. polyedra cells to copepods, a growth rate for the phytoplankton popula- tion of 0.8 doubling per day, and the as- sumption that all the phytoplankton pro- duction was consumed by the copepods, we can estimate a mean ingestion rate of about 90 cells per hour per organism. Paf- fenhiifer (1971) gave the mean ingestion rate over the whole developmental period for Calanus helgolandicus feeding on Gym- nodinium spkndens as 92 cells per hour per organism. Since G. splerzdens and G. polyedra are similar in size and since the phytoplankton concentration used in Paf- fenhiifer™s experiments is similar in range of those found during this cruise, it seems likely that copepods controlled the phyto- plankton production during this period. Discussion Earlier workers concluded that dinofla- gellates were typical organisms of oligo- trophic areas or were characteristic of the terminal assemblage in the succession of a phytoplankton community. Eppley et al. ( 1968) and Eppley and Harrison ( 1975) observed that dinoflagellates were associ- ated with upwelling, but only when the \n"
     ]
    }
   ],
   "source": [
    "pdffileobj=open(\"/home/scott/projects/RedTideResearch/dataHarvests/Blasco-1977-Limnology_and_Oceanography.pdf\", 'rb')\n",
    "pdfreader=PyPDF2.PdfFileReader(pdffileobj)\n",
    "x=pdfreader.numPages\n",
    "pageobj=pdfreader.getPage(5)\n",
    "text=pageobj.extractText()\n",
    "print(text)\n"
   ]
  },
  {
   "cell_type": "code",
   "execution_count": 17,
   "metadata": {},
   "outputs": [
    {
     "name": "stdout",
     "output_type": "stream",
     "text": [
      "b'<!DOCTYPE html PUBLIC \"-//W3C//DTD XHTML 1.0 Transitional//EN\" \"http://www.w3.org/TR/xhtml1/DTD/xhtml1-transitional.dtd\">\\r\\n<html xmlns=\"http://www.w3.org/1999/xhtml\" lang=\"en-US\" xml:lang=\"en-US\"><head>\\r\\n<meta http-equiv=\"Content-Type\" content=\"text/html; charset=ISO-8859-1\" />\\r\\n<meta name=\"description\" content=\"Harmful Algae (WHOI)\"/>\\r\\n<meta name=\"keywords\" content=\"\"/>\\r\\n<title>National Publications and Reports : Red Tide</title>\\r\\n<!--[if lte IE 6]>\\r\\n<style>\\r\\n#p7PMnav a {height: auto !important;}\\r\\n#p7PMnav ul a {height: 1em !important;}\\r\\n</style>\\r\\n<![endif]-->\\r\\n<link href=\"/cms/css/sb/redtide/hab-styles.css\" rel=\"stylesheet\" type=\"text/css\" />\\r\\n<script type=\"text/javascript\" src=\"/cms/css/sb/redtide/p7exp.js\"></script>\\r\\n<!-- Google Tag Manager -->\\r\\n<script>(function(w,d,s,l,i){w[l]=w[l]||[];w[l].push({\\'gtm.start\\':\\r\\nnew Date().getTime(),event:\\'gtm.js\\'});var f=d.getElementsByTagName(s)[0],\\r\\nj=d.createElement(s),dl=l!=\\'dataLayer\\'?\\'&l=\\'+l:\\'\\';j.async=true;j.src=\\r\\n\\'https://www.googletagmanager.com/gtm.js?id=\\'+i+dl;f.parentNode.insertBefore(j,f);\\r\\n})(window,document,\\'script\\',\\'dataLayer\\',\\'GTM-PMV284L\\');</script>\\r\\n<!-- End Google Tag Manager -->\\r\\n</head>\\r\\n    <body onload=\"P7_ExpMenu()\"><div id=\"container\">\\r\\n    <!-- Google Tag Manager (noscript) -->\\r\\n    <noscript><iframe src=\"https://www.googletagmanager.com/ns.html?id=GTM-PMV284L\"\\r\\n                      height=\"0\" width=\"0\" style=\"display:none;visibility:hidden\"></iframe></noscript>\\r\\n    <!-- End Google Tag Manager (noscript) -->\\r\\n<div id=\"banner_background\"><a href=\"http://www.whoi.edu/redtide/page.do?pid=9257\"><img src=\"/cms/images/sb/redtide/hab-logo.jpg\" alt=\"Harmful Algae\" width=\"313\" height=\"161\" border=\"0\" /></a></div>\\r\\n<div id=\"nav\"><ul id=\"p7menubar\">\\r\\n<li><a href=\"/redtide/home\">Home</a></li><li><a class=\"trigger\" href=\"/redtide/species\">Species</a><ul><li><a href=\"/redtide/species/by-name\">By Name</a></li><li><a href=\"/redtide/species/by-location\">By Location</a></li><li><a href=\"/redtide/species/by-syndrome\">By Syndrome</a></li><li><a href=\"/redtide/species/life-cycle\">Life Cycle</a></li></ul></li><li><a class=\"trigger\" href=\"/redtide/impacts\">Impacts</a><ul><li><a href=\"/redtide/impacts/human-health\">Human Health</a></li><li><a href=\"/redtide/impacts/wildlife\">Wildlife</a></li><li><a href=\"/redtide/impacts/ecosystems\">Ecosystems</a></li><li><a href=\"/redtide/impacts/socioeconomic\">Socioeconomic</a></li><li><a href=\"/redtide/impacts/freshwater\">Freshwater</a></li></ul></li><li><a class=\"trigger\" href=\"/redtide/regions\">Regions</a><ul><li><a href=\"/redtide/regions/us-distribution\">Distribution - U.S.</a></li><li><a href=\"/redtide/regions/world-distribution\">Distribution - World</a></li><li><a href=\"/redtide/regions/maps\">Maps</a></li></ul></li><li><a class=\"trigger-on\" href=\"/redtide/research\">Research</a><ul><li><a href=\"/redtide/research/programs\">Programs</a></li><li><a href=\"/redtide/research/publications-reports\">Publications / Reports</a></li><li><a href=\"/redtide/research/projects\">Projects</a></li></ul></li><li><a class=\"trigger\" href=\"/redtide/regions/resources\">Resources</a><ul><li><a href=\"&#x2f;redtide&#x2f;page.do?pid=121856\">National Resources</a></li><li><a href=\"&#x2f;redtide&#x2f;page.do?pid=121836\">International Resources</a></li><li><a href=\"/redtide/regions/state-resources\">States, Tribes, and Regions</a></li><li><a href=\"/redtide/regions/fact-sheets-cards\">Fact sheets / cards</a></li><li><a href=\"/redtide/regions/toxin-hotlines\">Toxin Hotlines</a></li></ul></li><li><a href=\"/redtide/announcements\">Announcements</a></li><li><a href=\"/redtide/faqs\">FAQs</a></li><li><a class=\"trigger\" href=\"/redtide/photos\">Photos</a><ul><li><a href=\"/redtide/photos/asp\">ASP</a></li><li><a href=\"/redtide/photos/cfp\">CFP</a></li><li><a href=\"/redtide/photos/dsp\">DSP</a></li><li><a href=\"/redtide/photos/nsp\">NSP</a></li><li><a href=\"/redtide/photos/psp\">PSP</a></li><li><a href=\"/redtide/photos/freshwater-habs\">Freshwater HABs</a></li><li><a href=\"/redtide/photos/macroalgal-blooms\">Macroalgal Blooms</a></li><li><a href=\"/redtide/photos/blooms\">Blooms</a></li><li><a href=\"/redtide/photos/impacts\">Impacts</a></li><li><a href=\"/redtide/photos/other\">Other</a></li></ul></li><li><a href=\"/redtide/photos/links\">Links</a></ul></li>\\r\\n<div align=\"right\" style=\"line-height:33px\"><form action=\"http://www.whoi.edu/redtide/search.do\" method=\"get\" name=\"SearchForm\" id=\"SearchForm\" style=\"display: inline; margin: 0;\">\\r\\n<input type = \"hidden\" name =\"g\" value = \"ext\"/>\\r\\n<input type = \"hidden\" name =\"c\" value = \"RedTide\"/>\\r\\n<input type=\"text\" name=\"q\" id=\"s\" value=\"Search here\" style=\"background-color:#fff; font-size: 11px; color: #C2021F; font-family: Arial, Helvetica, sans-serif;\" onfocus=\"if(this.value==this.defaultValue)this.value=\\'\\';\" onblur=\"if(this.value==\\'\\')this.value=this.defaultValue;\"/>\\r\\n  &nbsp;\\r\\n</form></div>\\r\\n<br class=\"clearit\">\\r\\n</div>\\r\\n<div id=\"maindiv\"><div id=\"navBar\"><p class=\"navButtsHead\"><a href=\"/redtide/research\">Research</a></p><p class=\"navButts\"><a href=\"/redtide/research/programs\">Programs</a></p><p class=\"navViz\"><a href=\"/redtide/research/publications-reports\">Publications / Reports</a></p><p class=\"navSubson\"><a href=\"/redtide/research/publications-reports/national\">National Publications and Reports</a></p><p class=\"navSubs\"><a href=\"/redtide/research/publications-reports/international\">International Publications and Reports</a></p><p class=\"navSubs\"><a href=\"/redtide/research/publications-reports/national-proceedings\">National Proceedings</a></p><p class=\"navSubs\"><a href=\"/redtide/research/publications-reports/international-proceedings\">International Proceedings</a></p><p class=\"navSubs\"><a href=\"/redtide/research/publications-reports/other\">Other Publications</a></p><p class=\"navButts\"><a href=\"/redtide/research/projects\">Projects</a></p></div><div id=\"content\"><h1>National Publications and Reports</h1><a href=\"/fileserver.do?id=230904&pt=10&p=19132\"><img src=\"https://www.whoi.edu//cms/images/COVER-thumbnail-Pages_from_final_habs_hypoxia_research_plan_and_action_422073.jpg\" alt=\"\" width=\"73\"  height=\"96\" class=\"imgfloatleft-index\" /></a><span class=\"subhead\"><a target=\"_blank\" href=\"/fileserver.do?id=230904&pt=10&p=19132\">Harmful Algal Blooms and Hypoxia Comprehensive Research Plan and Action Strategy: An Interagency Report</a></span><br />A report to Congress produced by the Interagency Working Group on the Harmful Algal Bloom and Hypoxia Research and Control Act (IWG-HABHRCA).&nbsp;<br />2016<br />3.7MB PDF<br clear=all><br/><a href=\"/fileserver.do?id=43464&pt=10&p=19132\"><img src=\"https://www.whoi.edu//cms/images/RDDTT-cover-tn_79228.jpg\" alt=\"\" width=\"75\"  height=\"96\" class=\"imgfloatleft-index\" /></a><span class=\"subhead\"><a target=\"_blank\" href=\"/fileserver.do?id=43464&pt=10&p=19132\">HAB RDDTT- Harmful Algal Bloom Research, Development, Demonstration, & Technology Transfer</a></span><br />Dortch, Q., Anderson, D.M., Ayres, D.L., Glibert, P.M. (Eds.) <br />\\r\\n5.7 MB PDF<br />\\r\\n<br clear=all><br/><a href=\"/fileserver.do?id=233744&pt=10&p=19132\"><img src=\"https://www.whoi.edu//cms/images/Sci-Assessment-HABs-2008-thumbnail_427113.png\" alt=\"\" width=\"73\"  height=\"94\" class=\"imgfloatleft-index\" /></a><span class=\"subhead\"><a target=\"_blank\" href=\"/fileserver.do?id=233744&pt=10&p=19132\">Scientific Assessment of Marine Harmful Algal Blooms</a></span><br />Lopez, C.B., Dortch, Q., Jewett, E.B., Garrison, D. (Eds.)<br />2008<br />3.7MB PDF<br clear=all><br/><a href=\"/fileserver.do?id=41023&pt=10&p=19132\"><img src=\"https://www.whoi.edu//cms/images/Freshwater-report-cvr-tn_75488.jpg\" alt=\"\" width=\"75\"  height=\"96\" class=\"imgfloatleft-index\" /></a><span class=\"subhead\"><a target=\"_blank\" href=\"/fileserver.do?id=41023&pt=10&p=19132\">Scientific  Assessment of Freshwater Harmful Algal Blooms</a></span><br />Lopez, C.B., Jewett, E.B., Dortch, Q., Walton, B.T., Hudnell, H.K.<br /> 2008<br /> 3.4MB PDF<br clear=all><br/><a href=\"/fileserver.do?id=233764&pt=10&p=19132\"><img src=\"https://www.whoi.edu//cms/images/HAB-Mgmt-Response-2008-thumbnail_427133.png\" alt=\"\" width=\"73\"  height=\"94\" class=\"imgfloatleft-index\" /></a><span class=\"subhead\"><a target=\"_blank\" href=\"/fileserver.do?id=233764&pt=10&p=19132\">Harmful Algal Bloom Management and Response: Assessment and Plan</a></span><br />Jewett, E.B., Lopez, C.B., Dortch, Q., Etheridge, S.M, Backer, L.C. (Eds)<br />2008<br />6.9MB PDF<br clear=all><br/><a href=\"/fileserver.do?id=31823&pt=10&p=19132\"><img src=\"https://www.whoi.edu//cms/images/COHH-cover_61268.jpg\" alt=\"\" width=\"75\"  height=\"96\" class=\"imgfloatleft-index\" /></a><span class=\"subhead\"><a target=\"_blank\" href=\"/fileserver.do?id=31823&pt=10&p=19132\">Interagency Oceans and Human Health Research Implementation Plan</a></span><br />Sandifer, P., C. Sotka, D. Garrison, and V. Fay. (Eds.) <br />2007<br />2.5MB PDF<br clear=all><br/><a href=\"/fileserver.do?id=233804&pt=10&p=19132\"><img src=\"https://www.whoi.edu//cms/images/Proceedings-CyanoHAB-Symp-2007-thumbnail_427193.png\" alt=\"\" width=\"73\"  height=\"104\" class=\"imgfloatleft-index\" /></a><span class=\"subhead\"><a target=\"_blank\" href=\"/fileserver.do?id=233804&pt=10&p=19132\">Proceedings of the Interagency, International Symposium on Cyanobacterial Harmful Algal Blooms </a></span><br />H. Kenneth Hudnell (ed.), <em>Advances in Experimental Medicine &amp; Biology</em>, <br />2007<br />7.5MB PDF<br />\\r\\n<p></p><br clear=all><br/><a href=\"/fileserver.do?id=24153&pt=10&p=19132\"><img src=\"https://www.whoi.edu//cms/images/HARRHD_cover_75_48170.jpg\" alt=\"harr hd\" width=\"75\"  height=\"97\" class=\"imgfloatleft-index\" /></a><span class=\"subhead\"><a target=\"_blank\" href=\"/fileserver.do?id=24153&pt=10&p=19132\">Harmful Algal Research and Response:  A Human Dimensions Strategy</a></span><br />Bauer, M. (Ed.)<br />2006<br />6.1MB PDF<br clear=all><br/><a href=\"/fileserver.do?id=24149&pt=10&p=19132\"><img src=\"https://www.whoi.edu//cms/images/HARRNESS_cover_75_48169.jpg\" alt=\"harrness\" width=\"75\"  height=\"96\" class=\"imgfloatleft-index\" /></a><span class=\"subhead\"><a target=\"_blank\" href=\"/fileserver.do?id=24149&pt=10&p=19132\">Harmful Algal Research and Response: A National Environmental Science Strategy</a></span><br />HARRNESS<br><i>Ramsdell, J.S., D.M. Anderson and P.M. Glibert (Eds.)</i><br>2005.<br>2.6MB PDF<br clear=all><br/><a href=\"/fileserver.do?id=24160&pt=10&p=19132\"><img src=\"https://www.whoi.edu//cms/images/PCM_research_plan_cover_75_48173.jpg\" alt=\"\" width=\"75\"  height=\"96\" class=\"imgfloatleft-index\" /></a><span class=\"subhead\"><a target=\"_blank\" href=\"/fileserver.do?id=24160&pt=10&p=19132\">Prevention, Control, and Mitigation of Harmful Algal Blooms:  A Research Plan</a></span><br />2001.<br>420KB PDF<br clear=all><br/><a href=\"/fileserver.do?id=24190&pt=10&p=19132\"><img src=\"https://www.whoi.edu//cms/images/OHH_75_48228.jpg\" alt=\"\" width=\"75\"  height=\"96\" class=\"imgfloatleft-index\" /></a><span class=\"subhead\"><a target=\"_blank\" href=\"/fileserver.do?id=24190&pt=10&p=19132\">Oceans and Human Health Roundtable Report</a></span><br />Research Triangle Park, North Carolina, December 17-18, 2001<br />620 KB PDF<br clear=all><br/><a href=\"/fileserver.do?id=24159&pt=10&p=19132\"><img src=\"https://www.whoi.edu//cms/images/economics_cover_75_48172.jpg\" alt=\"economics\" width=\"75\"  height=\"96\" class=\"imgfloatleft-index\" /></a><span class=\"subhead\"><a target=\"_blank\" href=\"/fileserver.do?id=24159&pt=10&p=19132\"> Estimated Annual Economic Impacts from Harmful Algal Blooms in the United States</a></span><br />Anderson, D. M., Y. Kaoru, A. W. White<br>2000.<br>1.1MB PDF<br clear=all><br/><a href=\"/fileserver.do?id=24192&pt=10&p=19132\"><img src=\"https://www.whoi.edu//cms/images/NOAA_75_48230.jpg\" alt=\"\" width=\"75\"  height=\"96\" class=\"imgfloatleft-index\" /></a><span class=\"subhead\"><a target=\"_blank\" href=\"/fileserver.do?id=24192&pt=10&p=19132\">State of the Coastal Environment:  Harmful Algal Blooms</a></span><br />Bushaw-Newton, K.L. and Sellner, K.G.<br>1999.<br />1.4MB PDF<br clear=all><br/><a href=\"/fileserver.do?id=24191&pt=10&p=19132\"><img src=\"https://www.whoi.edu//cms/images/pfiesteria_75_48229.jpg\" alt=\"\" width=\"75\"  height=\"96\" class=\"imgfloatleft-index\" /></a><span class=\"subhead\"><a target=\"_blank\" href=\"/fileserver.do?id=24191&pt=10&p=19132\">Protocols for Monitoring Pfiesteria and Related Health and Environmental Conditions in U.S. Coastal Waters</a></span><br />Turgeon, et al.<br />1999.<br>308KB PDF<br clear=all><br/><a href=\"/fileserver.do?id=24189&pt=10&p=19132\"><img src=\"https://www.whoi.edu//cms/images/national_plan_75_48288.jpg\" alt=\"\" width=\"75\"  height=\"96\" class=\"imgfloatleft-index\" /></a><span class=\"subhead\"><a target=\"_blank\" href=\"/fileserver.do?id=24189&pt=10&p=19132\">National HAB Research and Monitoring Strategy: <i>Pfiesteria</i></a></span><br />An Initial Focus on Pfiesteria, Fish Lesions, Fish Kills and Public Health.<br />1997.<br>204KB PDF<br clear=all><br/><a href=\"/fileserver.do?id=24161&pt=10&p=19132\"><img src=\"https://www.whoi.edu//cms/images/PCM_boesch_cover_75_48175.jpg\" alt=\"\" width=\"75\"  height=\"96\" class=\"imgfloatleft-index\" /></a><span class=\"subhead\"><a target=\"_blank\" href=\"/fileserver.do?id=24161&pt=10&p=19132\">Harmful Algal Blooms in Coastal Waters:  Options for Prevention, Control, and Mitigation</a></span><br />Boesch, D. F., et al.<br>1996.<br>4.3MB PDF<br clear=all><br/><a href=\"/fileserver.do?id=24158&pt=10&p=19132\"><img src=\"https://www.whoi.edu//cms/images/ECOHAB_cover_75_48171.jpg\" alt=\"ecohab\" width=\"75\"  height=\"96\" class=\"imgfloatleft-index\" /></a><span class=\"subhead\"><a target=\"_blank\" href=\"/fileserver.do?id=24158&pt=10&p=19132\">The Ecology and Oceanography of Harmful Algal Blooms:  A National Research Agenda</a></span><br />ECOHAB<br>1995.<br>608KB PDF<br clear=all><br/><a href=\"/fileserver.do?id=24155&pt=10&p=19132\"><img src=\"https://www.whoi.edu//cms/images/national_plan_cover_75_48176.jpg\" alt=\"\" width=\"75\"  height=\"96\" class=\"imgfloatleft-index\" /></a><span class=\"subhead\"><a target=\"_blank\" href=\"/fileserver.do?id=24155&pt=10&p=19132\">Marine Biotoxins and Harmful Algae:  A National Plan</a></span><br />1993.<br>652KB PDF<br clear=all><br/><br clear=\"all\"/><br /><span class=\"updated\"><i>Last updated: July 11, 2016</i></span></div><div id=\"copyright\">\\r\\n<img src=\"/cms/images/sb/redtide/whoi-noaa.gif\" alt=\"whoi noaa\" width=\"154\" height=\"71\" border=\"0\" usemap=\"#Map\" class=\"imgfloatleft-home\" />\\r\\n<map name=\"Map\" id=\"Map\"><area shape=\"circle\" coords=\"36,36,35\" href=\"http://www.whoi.edu\" alt=\"Woods Hole Oceanographic Institution\" />\\r\\n<area shape=\"circle\" coords=\"119,37,34\" href=\"http://www.cop.noaa.gov/\" alt=\"National Oceanic and Atmospheric Administration Coastal Ocean Program\" />\\r\\n</map>\\r\\n&copy; Copyright WHOI 2007. All rights reserved. <a href=\"/redtide/about-us\">About Us</a>  |  <a href=\"/redtide/page.do?pid=14780\">Contact Us</a>  |  <a href=\"/redtide/page.do?pid=14781\">Related Links</a>  |  <a href=\"/redtide/page.do?pid=14782\">Site Map</a><a href=\"http://www.facebook.com/pages/Harmful-Algae/210160985681846\"><img src=\"/cms/images/sb/redtide/facebook.jpg\" alt=\"facebook\"  border=\"0\"  align=\"absbottom\" style=\"margin-left:10px;\" /></a><br />The Harmful Algae Page is supported by a National Oceanic and Atmospheric Administration Center for \\r\\n    Sponsored Coastal Ocean Research Coastal Ocean Program (NOAA/CSCOR/COP) grant to the National Office for \\r\\n    Harmful Algal Blooms at Woods Hole Oceanographic Institution, \\r\\n    <a href=\"mailto:danderson@whoi.edu\">Dr. Don Anderson</a>, Director.\\r\\n</div>\\r\\n</div>\\r\\n</div>\\r\\n<div id=\"bottom\">&nbsp;</div>\\r\\n<!--tracking for all sites-->\\r\\n<script>\\r\\n  (function(i,s,o,g,r,a,m){i[\\'GoogleAnalyticsObject\\']=r;i[r]=i[r]||function(){\\r\\n  (i[r].q=i[r].q||[]).push(arguments)},i[r].l=1*new Date();a=s.createElement(o),\\r\\n  m=s.getElementsByTagName(o)[0];a.async=1;a.src=g;m.parentNode.insertBefore(a,m)\\r\\n  })(window,document,\\'script\\',\\'https://www.google-analytics.com/analytics.js\\',\\'ga\\');\\r\\n\\r\\n  ga(\\'create\\', \\'UA-98101216-3\\', \\'auto\\');\\r\\n  ga(\\'send\\', \\'pageview\\');\\r\\n\\r\\n</script></body>\\r\\n</html>'\n"
     ]
    }
   ],
   "source": [
    "import urllib.request \n",
    "response = urllib.request.urlopen('https://www.whoi.edu/website/redtide/research/publications-reports/national/')\n",
    "#response = urllib.request.urlopen('http://php.net/') \n",
    "html = response.read() \n",
    "print (html)\n"
   ]
  },
  {
   "cell_type": "code",
   "execution_count": 18,
   "metadata": {},
   "outputs": [
    {
     "name": "stdout",
     "output_type": "stream",
     "text": [
      "National Publications and Reports : Red Tide(function(w,d,s,l,i){w[l]=w[l]||[];w[l].push({'gtm.start':\n",
      "new Date().getTime(),event:'gtm.js'});var f=d.getElementsByTagName(s)[0],\n",
      "j=d.createElement(s),dl=l!='dataLayer'?'&l='+l:'';j.async=true;j.src=\n",
      "'https://www.googletagmanager.com/gtm.js?id='+i+dl;f.parentNode.insertBefore(j,f);\n",
      "})(window,document,'script','dataLayer','GTM-PMV284L');HomeSpeciesBy NameBy LocationBy SyndromeLife CycleImpactsHuman HealthWildlifeEcosystemsSocioeconomicFreshwaterRegionsDistribution - U.S.Distribution - WorldMapsResearchProgramsPublications / ReportsProjectsResourcesNational ResourcesInternational ResourcesStates, Tribes, and RegionsFact sheets / cardsToxin HotlinesAnnouncementsFAQsPhotosASPCFPDSPNSPPSPFreshwater HABsMacroalgal BloomsBloomsImpactsOtherLinksResearchProgramsPublications / ReportsNational Publications and ReportsInternational Publications and ReportsNational ProceedingsInternational ProceedingsOther PublicationsProjectsNational Publications and ReportsHarmful Algal Blooms and Hypoxia Comprehensive Research Plan and Action Strategy: An Interagency ReportA report to Congress produced by the Interagency Working Group on the Harmful Algal Bloom and Hypoxia Research and Control Act (IWG-HABHRCA).20163.7MB PDFHAB RDDTT- Harmful Algal Bloom Research, Development, Demonstration, & Technology TransferDortch, Q., Anderson, D.M., Ayres, D.L., Glibert, P.M. (Eds.)5.7 MB PDFScientific Assessment of Marine Harmful Algal BloomsLopez, C.B., Dortch, Q., Jewett, E.B., Garrison, D. (Eds.)20083.7MB PDFScientific  Assessment of Freshwater Harmful Algal BloomsLopez, C.B., Jewett, E.B., Dortch, Q., Walton, B.T., Hudnell, H.K.20083.4MB PDFHarmful Algal Bloom Management and Response: Assessment and PlanJewett, E.B., Lopez, C.B., Dortch, Q., Etheridge, S.M, Backer, L.C. (Eds)20086.9MB PDFInteragency Oceans and Human Health Research Implementation PlanSandifer, P., C. Sotka, D. Garrison, and V. Fay. (Eds.)20072.5MB PDFProceedings of the Interagency, International Symposium on Cyanobacterial Harmful Algal BloomsH. Kenneth Hudnell (ed.),Advances in Experimental Medicine & Biology,20077.5MB PDFHarmful Algal Research and Response:  A Human Dimensions StrategyBauer, M. (Ed.)20066.1MB PDFHarmful Algal Research and Response: A National Environmental Science StrategyHARRNESSRamsdell, J.S., D.M. Anderson and P.M. Glibert (Eds.)2005.2.6MB PDFPrevention, Control, and Mitigation of Harmful Algal Blooms:  A Research Plan2001.420KB PDFOceans and Human Health Roundtable ReportResearch Triangle Park, North Carolina, December 17-18, 2001620 KB PDFEstimated Annual Economic Impacts from Harmful Algal Blooms in the United StatesAnderson, D. M., Y. Kaoru, A. W. White2000.1.1MB PDFState of the Coastal Environment:  Harmful Algal BloomsBushaw-Newton, K.L. and Sellner, K.G.1999.1.4MB PDFProtocols for Monitoring Pfiesteria and Related Health and Environmental Conditions in U.S. Coastal WatersTurgeon, et al.1999.308KB PDFNational HAB Research and Monitoring Strategy:PfiesteriaAn Initial Focus on Pfiesteria, Fish Lesions, Fish Kills and Public Health.1997.204KB PDFHarmful Algal Blooms in Coastal Waters:  Options for Prevention, Control, and MitigationBoesch, D. F., et al.1996.4.3MB PDFThe Ecology and Oceanography of Harmful Algal Blooms:  A National Research AgendaECOHAB1995.608KB PDFMarine Biotoxins and Harmful Algae:  A National Plan1993.652KB PDFLast updated: July 11, 2016© Copyright WHOI 2007. All rights reserved.About Us|Contact Us|Related Links|Site MapThe Harmful Algae Page is supported by a National Oceanic and Atmospheric Administration Center for \n",
      "    Sponsored Coastal Ocean Research Coastal Ocean Program (NOAA/CSCOR/COP) grant to the National Office for \n",
      "    Harmful Algal Blooms at Woods Hole Oceanographic Institution,Dr. Don Anderson, Director.(function(i,s,o,g,r,a,m){i['GoogleAnalyticsObject']=r;i[r]=i[r]||function(){\n",
      "  (i[r].q=i[r].q||[]).push(arguments)},i[r].l=1*new Date();a=s.createElement(o),\n",
      "  m=s.getElementsByTagName(o)[0];a.async=1;a.src=g;m.parentNode.insertBefore(a,m)\n",
      "  })(window,document,'script','https://www.google-analytics.com/analytics.js','ga');\n",
      "\n",
      "  ga('create', 'UA-98101216-3', 'auto');\n",
      "  ga('send', 'pageview');\n"
     ]
    }
   ],
   "source": [
    "\n",
    "from bs4 import BeautifulSoup\n",
    "import urllib.request \n",
    "response = urllib.request.urlopen('https://www.whoi.edu/website/redtide/research/publications-reports/national/') \n",
    "html = response.read()\n",
    "soup = BeautifulSoup(html,\"html5lib\")\n",
    "text = soup.get_text(strip=True)\n",
    "print (text)"
   ]
  },
  {
   "cell_type": "code",
   "execution_count": 19,
   "metadata": {},
   "outputs": [
    {
     "name": "stdout",
     "output_type": "stream",
     "text": [
      "['National', 'Publications', 'and', 'Reports', ':', 'Red', \"Tide(function(w,d,s,l,i){w[l]=w[l]||[];w[l].push({'gtm.start':\", 'new', \"Date().getTime(),event:'gtm.js'});var\", 'f=d.getElementsByTagName(s)[0],', \"j=d.createElement(s),dl=l!='dataLayer'?'&l='+l:'';j.async=true;j.src=\", \"'https://www.googletagmanager.com/gtm.js?id='+i+dl;f.parentNode.insertBefore(j,f);\", \"})(window,document,'script','dataLayer','GTM-PMV284L');HomeSpeciesBy\", 'NameBy', 'LocationBy', 'SyndromeLife', 'CycleImpactsHuman', 'HealthWildlifeEcosystemsSocioeconomicFreshwaterRegionsDistribution', '-', 'U.S.Distribution', '-', 'WorldMapsResearchProgramsPublications', '/', 'ReportsProjectsResourcesNational', 'ResourcesInternational', 'ResourcesStates,', 'Tribes,', 'and', 'RegionsFact', 'sheets', '/', 'cardsToxin', 'HotlinesAnnouncementsFAQsPhotosASPCFPDSPNSPPSPFreshwater', 'HABsMacroalgal', 'BloomsBloomsImpactsOtherLinksResearchProgramsPublications', '/', 'ReportsNational', 'Publications', 'and', 'ReportsInternational', 'Publications', 'and', 'ReportsNational', 'ProceedingsInternational', 'ProceedingsOther', 'PublicationsProjectsNational', 'Publications', 'and', 'ReportsHarmful', 'Algal', 'Blooms', 'and', 'Hypoxia', 'Comprehensive', 'Research', 'Plan', 'and', 'Action', 'Strategy:', 'An', 'Interagency', 'ReportA', 'report', 'to', 'Congress', 'produced', 'by', 'the', 'Interagency', 'Working', 'Group', 'on', 'the', 'Harmful', 'Algal', 'Bloom', 'and', 'Hypoxia', 'Research', 'and', 'Control', 'Act', '(IWG-HABHRCA).20163.7MB', 'PDFHAB', 'RDDTT-', 'Harmful', 'Algal', 'Bloom', 'Research,', 'Development,', 'Demonstration,', '&', 'Technology', 'TransferDortch,', 'Q.,', 'Anderson,', 'D.M.,', 'Ayres,', 'D.L.,', 'Glibert,', 'P.M.', '(Eds.)5.7', 'MB', 'PDFScientific', 'Assessment', 'of', 'Marine', 'Harmful', 'Algal', 'BloomsLopez,', 'C.B.,', 'Dortch,', 'Q.,', 'Jewett,', 'E.B.,', 'Garrison,', 'D.', '(Eds.)20083.7MB', 'PDFScientific', 'Assessment', 'of', 'Freshwater', 'Harmful', 'Algal', 'BloomsLopez,', 'C.B.,', 'Jewett,', 'E.B.,', 'Dortch,', 'Q.,', 'Walton,', 'B.T.,', 'Hudnell,', 'H.K.20083.4MB', 'PDFHarmful', 'Algal', 'Bloom', 'Management', 'and', 'Response:', 'Assessment', 'and', 'PlanJewett,', 'E.B.,', 'Lopez,', 'C.B.,', 'Dortch,', 'Q.,', 'Etheridge,', 'S.M,', 'Backer,', 'L.C.', '(Eds)20086.9MB', 'PDFInteragency', 'Oceans', 'and', 'Human', 'Health', 'Research', 'Implementation', 'PlanSandifer,', 'P.,', 'C.', 'Sotka,', 'D.', 'Garrison,', 'and', 'V.', 'Fay.', '(Eds.)20072.5MB', 'PDFProceedings', 'of', 'the', 'Interagency,', 'International', 'Symposium', 'on', 'Cyanobacterial', 'Harmful', 'Algal', 'BloomsH.', 'Kenneth', 'Hudnell', '(ed.),Advances', 'in', 'Experimental', 'Medicine', '&', 'Biology,20077.5MB', 'PDFHarmful', 'Algal', 'Research', 'and', 'Response:', 'A', 'Human', 'Dimensions', 'StrategyBauer,', 'M.', '(Ed.)20066.1MB', 'PDFHarmful', 'Algal', 'Research', 'and', 'Response:', 'A', 'National', 'Environmental', 'Science', 'StrategyHARRNESSRamsdell,', 'J.S.,', 'D.M.', 'Anderson', 'and', 'P.M.', 'Glibert', '(Eds.)2005.2.6MB', 'PDFPrevention,', 'Control,', 'and', 'Mitigation', 'of', 'Harmful', 'Algal', 'Blooms:', 'A', 'Research', 'Plan2001.420KB', 'PDFOceans', 'and', 'Human', 'Health', 'Roundtable', 'ReportResearch', 'Triangle', 'Park,', 'North', 'Carolina,', 'December', '17-18,', '2001620', 'KB', 'PDFEstimated', 'Annual', 'Economic', 'Impacts', 'from', 'Harmful', 'Algal', 'Blooms', 'in', 'the', 'United', 'StatesAnderson,', 'D.', 'M.,', 'Y.', 'Kaoru,', 'A.', 'W.', 'White2000.1.1MB', 'PDFState', 'of', 'the', 'Coastal', 'Environment:', 'Harmful', 'Algal', 'BloomsBushaw-Newton,', 'K.L.', 'and', 'Sellner,', 'K.G.1999.1.4MB', 'PDFProtocols', 'for', 'Monitoring', 'Pfiesteria', 'and', 'Related', 'Health', 'and', 'Environmental', 'Conditions', 'in', 'U.S.', 'Coastal', 'WatersTurgeon,', 'et', 'al.1999.308KB', 'PDFNational', 'HAB', 'Research', 'and', 'Monitoring', 'Strategy:PfiesteriaAn', 'Initial', 'Focus', 'on', 'Pfiesteria,', 'Fish', 'Lesions,', 'Fish', 'Kills', 'and', 'Public', 'Health.1997.204KB', 'PDFHarmful', 'Algal', 'Blooms', 'in', 'Coastal', 'Waters:', 'Options', 'for', 'Prevention,', 'Control,', 'and', 'MitigationBoesch,', 'D.', 'F.,', 'et', 'al.1996.4.3MB', 'PDFThe', 'Ecology', 'and', 'Oceanography', 'of', 'Harmful', 'Algal', 'Blooms:', 'A', 'National', 'Research', 'AgendaECOHAB1995.608KB', 'PDFMarine', 'Biotoxins', 'and', 'Harmful', 'Algae:', 'A', 'National', 'Plan1993.652KB', 'PDFLast', 'updated:', 'July', '11,', '2016©', 'Copyright', 'WHOI', '2007.', 'All', 'rights', 'reserved.About', 'Us|Contact', 'Us|Related', 'Links|Site', 'MapThe', 'Harmful', 'Algae', 'Page', 'is', 'supported', 'by', 'a', 'National', 'Oceanic', 'and', 'Atmospheric', 'Administration', 'Center', 'for', 'Sponsored', 'Coastal', 'Ocean', 'Research', 'Coastal', 'Ocean', 'Program', '(NOAA/CSCOR/COP)', 'grant', 'to', 'the', 'National', 'Office', 'for', 'Harmful', 'Algal', 'Blooms', 'at', 'Woods', 'Hole', 'Oceanographic', 'Institution,Dr.', 'Don', 'Anderson,', \"Director.(function(i,s,o,g,r,a,m){i['GoogleAnalyticsObject']=r;i[r]=i[r]||function(){\", '(i[r].q=i[r].q||[]).push(arguments)},i[r].l=1*new', 'Date();a=s.createElement(o),', 'm=s.getElementsByTagName(o)[0];a.async=1;a.src=g;m.parentNode.insertBefore(a,m)', \"})(window,document,'script','https://www.google-analytics.com/analytics.js','ga');\", \"ga('create',\", \"'UA-98101216-3',\", \"'auto');\", \"ga('send',\", \"'pageview');\"]\n"
     ]
    }
   ],
   "source": [
    "from bs4 import BeautifulSoup \n",
    "import urllib.request \n",
    "response = urllib.request.urlopen('https://www.whoi.edu/website/redtide/research/publications-reports/national/') \n",
    "html = response.read() \n",
    "soup = BeautifulSoup(html,\"html5lib\") \n",
    "text = soup.get_text(strip=True) \n",
    "tokens = [t for t in text.split()] \n",
    "print (tokens)"
   ]
  },
  {
   "cell_type": "code",
   "execution_count": null,
   "metadata": {},
   "outputs": [],
   "source": [
    "from bs4 import BeautifulSoup\n",
    "import urllib.request\n",
    "import nltk \n",
    "response = urllib.request.urlopen('https://www.whoi.edu/website/redtide/research/publications-reports/national/') \n",
    "html = response.read() \n",
    "soup = BeautifulSoup(html,\"html5lib\") \n",
    "text = soup.get_text(strip=True) \n",
    "tokens = [t for t in text.split()] \n",
    "freq = nltk.FreqDist(tokens) \n",
    "for key,val in freq.items(): \n",
    "    print (str(key) + ':' + str(val))"
   ]
  },
  {
   "cell_type": "code",
   "execution_count": null,
   "metadata": {},
   "outputs": [],
   "source": []
  }
 ],
 "metadata": {
  "kernelspec": {
   "display_name": "Python 3",
   "language": "python",
   "name": "python3"
  },
  "language_info": {
   "codemirror_mode": {
    "name": "ipython",
    "version": 3
   },
   "file_extension": ".py",
   "mimetype": "text/x-python",
   "name": "python",
   "nbconvert_exporter": "python",
   "pygments_lexer": "ipython3",
   "version": "3.6.8"
  }
 },
 "nbformat": 4,
 "nbformat_minor": 2
}
